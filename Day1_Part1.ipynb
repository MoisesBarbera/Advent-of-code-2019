{
 "cells": [
  {
   "cell_type": "markdown",
   "metadata": {},
   "source": [
    "# Code of Advent 2019\n",
    "## Puzzle 1 day 1"
   ]
  },
  {
   "cell_type": "markdown",
   "metadata": {},
   "source": [
    "Moises Barbera Ramos - https://github.com/MoisesBarbera - https://www.linkedin.com/in/moises-barbera-ramos-8a3848164/"
   ]
  },
  {
   "cell_type": "markdown",
   "metadata": {},
   "source": [
    "https://adventofcode.com/2019/day/1\n",
    "\n",
    "Fuel required to launch a given module is based on its mass. Specifically, to find the fuel required for a module, take its mass, divide by three, round down, and subtract 2.\n",
    "\n",
    "For example:\n",
    "\n",
    "For a mass of 12, divide by 3 and round down to get 4, then subtract 2 to get 2.\n",
    "\n",
    "What is the sum of the fuel requirements for all of the modules on your spacecraft?"
   ]
  },
  {
   "cell_type": "code",
   "execution_count": 1,
   "metadata": {},
   "outputs": [],
   "source": [
    "import math"
   ]
  },
  {
   "cell_type": "code",
   "execution_count": 2,
   "metadata": {},
   "outputs": [],
   "source": [
    "# https://adventofcode.com/2019/day/1/input\n",
    "\n",
    "data = [60052,\n",
    "61005,\n",
    "114258,\n",
    "66223,\n",
    "114571,\n",
    "80949,\n",
    "129508,\n",
    "94463,\n",
    "134331,\n",
    "102634,\n",
    "148109,\n",
    "109532,\n",
    "60479,\n",
    "68048,\n",
    "71553,\n",
    "68053,\n",
    "51105,\n",
    "149024,\n",
    "138472,\n",
    "57246,\n",
    "85686,\n",
    "121267,\n",
    "144206,\n",
    "104420,\n",
    "149858,\n",
    "137795,\n",
    "121637,\n",
    "68877,\n",
    "51560,\n",
    "74506,\n",
    "83362,\n",
    "53806,\n",
    "132871,\n",
    "100629,\n",
    "76102,\n",
    "103594,\n",
    "68425,\n",
    "54734,\n",
    "124930,\n",
    "120598,\n",
    "136375,\n",
    "146892,\n",
    "90876,\n",
    "131455,\n",
    "124377,\n",
    "125244,\n",
    "144563,\n",
    "107469,\n",
    "86940,\n",
    "132916,\n",
    "79789,\n",
    "136359,\n",
    "105127,\n",
    "82810,\n",
    "83751,\n",
    "107741,\n",
    "51677,\n",
    "113598,\n",
    "119741,\n",
    "105174,\n",
    "128151,\n",
    "82407,\n",
    "108461,\n",
    "50594,\n",
    "92897,\n",
    "146520,\n",
    "56176,\n",
    "68640,\n",
    "124300,\n",
    "88250,\n",
    "132105,\n",
    "89023,\n",
    "80532,\n",
    "120433,\n",
    "50015,\n",
    "84028,                \n",
    "100491,\n",
    "53131,\n",
    "135920,\n",
    "108820,\n",
    "98932,\n",
    "109750,\n",
    "136854,                \n",
    "126902,\n",
    "108231,\n",
    "109391,\n",
    "136727,\n",
    "128359,                \n",
    "108575,\n",
    "114594,\n",
    "131466,\n",
    "89977,\n",
    "124467,\n",
    "114318,\n",
    "84544,\n",
    "53584,\n",
    "87786,\n",
    "131991,\n",
    "138445,\n",
    "70673]"
   ]
  },
  {
   "cell_type": "code",
   "execution_count": 3,
   "metadata": {},
   "outputs": [
    {
     "data": {
      "text/plain": [
       "100"
      ]
     },
     "execution_count": 3,
     "metadata": {},
     "output_type": "execute_result"
    }
   ],
   "source": [
    "len(data)"
   ]
  },
  {
   "cell_type": "code",
   "execution_count": 4,
   "metadata": {},
   "outputs": [],
   "source": [
    "# version 1\n",
    "\n",
    "def puzzle_1(data):\n",
    "    sum_fuel = 0                     # record the sum of fuel requirements \n",
    "    for i in range(len(data)):\n",
    "        calc_1 = data[i]/3           # Divide number (mass) by three\n",
    "        calc_2 = math.floor(calc_1)  # Round down\n",
    "        calc_3 = calc_2 - 2          # Subtract 2\n",
    "        sum_fuel += calc_3           # Add/update sum fuel requirements\n",
    "    return sum_fuel"
   ]
  },
  {
   "cell_type": "code",
   "execution_count": 5,
   "metadata": {},
   "outputs": [
    {
     "data": {
      "text/plain": [
       "3392373"
      ]
     },
     "execution_count": 5,
     "metadata": {},
     "output_type": "execute_result"
    }
   ],
   "source": [
    "puzzle_1(data)"
   ]
  },
  {
   "cell_type": "code",
   "execution_count": 6,
   "metadata": {},
   "outputs": [],
   "source": [
    "# Version 2\n",
    "\n",
    "def puzzle_1(data):\n",
    "    sum_fuel = []                     # store all the fuel requirements \n",
    "    for i in range(len(data)):\n",
    "        calc_1 = data[i]/3           # Divide number (mass) by three\n",
    "        calc_2 = math.floor(calc_1)  # Round down\n",
    "        calc_3 = calc_2 - 2          # Subtract 2\n",
    "        sum_fuel.append(calc_3)      # Add new fuel requirements to the list\n",
    "        total_sum = sum(sum_fuel)    # sum all fuel requirements\n",
    "    return total_sum"
   ]
  },
  {
   "cell_type": "code",
   "execution_count": 7,
   "metadata": {},
   "outputs": [
    {
     "data": {
      "text/plain": [
       "3392373"
      ]
     },
     "execution_count": 7,
     "metadata": {},
     "output_type": "execute_result"
    }
   ],
   "source": [
    "puzzle_1(data)"
   ]
  },
  {
   "cell_type": "code",
   "execution_count": null,
   "metadata": {},
   "outputs": [],
   "source": []
  }
 ],
 "metadata": {
  "kernelspec": {
   "display_name": "Python 3",
   "language": "python",
   "name": "python3"
  },
  "language_info": {
   "codemirror_mode": {
    "name": "ipython",
    "version": 3
   },
   "file_extension": ".py",
   "mimetype": "text/x-python",
   "name": "python",
   "nbconvert_exporter": "python",
   "pygments_lexer": "ipython3",
   "version": "3.5.2"
  }
 },
 "nbformat": 4,
 "nbformat_minor": 2
}
