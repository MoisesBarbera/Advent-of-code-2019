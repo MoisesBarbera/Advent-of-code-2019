{
 "cells": [
  {
   "cell_type": "markdown",
   "metadata": {},
   "source": [
    "# Code of Advent 2019\n",
    "## Puzzle 2 day 1"
   ]
  },
  {
   "cell_type": "markdown",
   "metadata": {},
   "source": [
    "Moises Barbera Ramos - https://github.com/MoisesBarbera - https://www.linkedin.com/in/moises-barbera-ramos-8a3848164/\n"
   ]
  },
  {
   "cell_type": "markdown",
   "metadata": {},
   "source": [
    "https://adventofcode.com/2019/day/1#part2\n",
    "\n",
    "--- Part Two ---\n",
    "During the second Go / No Go poll, the Elf in charge of the Rocket Equation Double-Checker stops the launch sequence. Apparently, you forgot to include additional fuel for the fuel you just added.\n",
    "\n",
    "Fuel itself requires fuel just like a module - take its mass, divide by three, round down, and subtract 2. However, that fuel also requires fuel, and that fuel requires fuel, and so on. Any mass that would require negative fuel should instead be treated as if it requires zero fuel; the remaining mass, if any, is instead handled by wishing really hard, which has no mass and is outside the scope of this calculation.\n",
    "\n",
    "So, for each module mass, calculate its fuel and add it to the total. Then, treat the fuel amount you just calculated as the input mass and repeat the process, continuing until a fuel requirement is zero or negative. For example:\n",
    "\n",
    "- A module of mass 14 requires 2 fuel. This fuel requires no further fuel (2 divided by 3 and rounded down is 0, which would call for a negative fuel), so the total fuel required is still just 2.\n",
    "- At first, a module of mass 1969 requires 654 fuel. Then, this fuel requires 216 more fuel (654 / 3 - 2). 216 then requires 70 more fuel, which requires 21 fuel, which requires 5 fuel, which requires no further fuel. So, the total fuel required for a module of mass 1969 is 654 + 216 + 70 + 21 + 5 = 966.\n",
    "- The fuel required by a module of mass 100756 and its fuel is: 33583 + 11192 + 3728 + 1240 + 411 + 135 + 43 + 12 + 2 = 50346.\n",
    "\n",
    "What is the sum of the fuel requirements for all of the modules on your spacecraft when also taking into account the mass of the added fuel? (Calculate the fuel requirements for each module separately, then add them all up at the end.)"
   ]
  },
  {
   "cell_type": "code",
   "execution_count": 1,
   "metadata": {},
   "outputs": [],
   "source": [
    "import math"
   ]
  },
  {
   "cell_type": "code",
   "execution_count": 2,
   "metadata": {},
   "outputs": [],
   "source": [
    "# https://adventofcode.com/2019/day/1/input\n",
    "\n",
    "data = [60052,\n",
    "61005,\n",
    "114258,\n",
    "66223,\n",
    "114571,\n",
    "80949,\n",
    "129508,\n",
    "94463,\n",
    "134331,\n",
    "102634,\n",
    "148109,\n",
    "109532,\n",
    "60479,\n",
    "68048,\n",
    "71553,\n",
    "68053,\n",
    "51105,\n",
    "149024,\n",
    "138472,\n",
    "57246,\n",
    "85686,\n",
    "121267,\n",
    "144206,\n",
    "104420,\n",
    "149858,\n",
    "137795,\n",
    "121637,\n",
    "68877,\n",
    "51560,\n",
    "74506,\n",
    "83362,\n",
    "53806,\n",
    "132871,\n",
    "100629,\n",
    "76102,\n",
    "103594,\n",
    "68425,\n",
    "54734,\n",
    "124930,\n",
    "120598,\n",
    "136375,\n",
    "146892,\n",
    "90876,\n",
    "131455,\n",
    "124377,\n",
    "125244,\n",
    "144563,\n",
    "107469,\n",
    "86940,\n",
    "132916,\n",
    "79789,\n",
    "136359,\n",
    "105127,\n",
    "82810,\n",
    "83751,\n",
    "107741,\n",
    "51677,\n",
    "113598,\n",
    "119741,\n",
    "105174,\n",
    "128151,\n",
    "82407,\n",
    "108461,\n",
    "50594,\n",
    "92897,\n",
    "146520,\n",
    "56176,\n",
    "68640,\n",
    "124300,\n",
    "88250,\n",
    "132105,\n",
    "89023,\n",
    "80532,\n",
    "120433,\n",
    "50015,\n",
    "84028,                \n",
    "100491,\n",
    "53131,\n",
    "135920,\n",
    "108820,\n",
    "98932,\n",
    "109750,\n",
    "136854,                \n",
    "126902,\n",
    "108231,\n",
    "109391,\n",
    "136727,\n",
    "128359,                \n",
    "108575,\n",
    "114594,\n",
    "131466,\n",
    "89977,\n",
    "124467,\n",
    "114318,\n",
    "84544,\n",
    "53584,\n",
    "87786,\n",
    "131991,\n",
    "138445,\n",
    "70673]"
   ]
  },
  {
   "cell_type": "code",
   "execution_count": 3,
   "metadata": {},
   "outputs": [],
   "source": [
    "# Function to obtain fuel requirements\n",
    "\n",
    "def puzzle_2(mass):\n",
    "    fuel = int(math.floor(mass/3) - 2)  # variation of puzzle_1\n",
    "    if fuel < 0:\n",
    "        return 0\n",
    "    else:\n",
    "        return fuel + puzzle_2(fuel)"
   ]
  },
  {
   "cell_type": "code",
   "execution_count": 4,
   "metadata": {},
   "outputs": [
    {
     "data": {
      "text/plain": [
       "5085699"
      ]
     },
     "execution_count": 4,
     "metadata": {},
     "output_type": "execute_result"
    }
   ],
   "source": [
    "# Obtain the sum of all fuel requirements\n",
    "\n",
    "total_fuel = 0\n",
    "for mass in data: \n",
    "    total_fuel += puzzle_2(mass)\n",
    "total_fuel"
   ]
  }
 ],
 "metadata": {
  "kernelspec": {
   "display_name": "Python 3",
   "language": "python",
   "name": "python3"
  },
  "language_info": {
   "codemirror_mode": {
    "name": "ipython",
    "version": 3
   },
   "file_extension": ".py",
   "mimetype": "text/x-python",
   "name": "python",
   "nbconvert_exporter": "python",
   "pygments_lexer": "ipython3",
   "version": "3.5.2"
  }
 },
 "nbformat": 4,
 "nbformat_minor": 2
}
