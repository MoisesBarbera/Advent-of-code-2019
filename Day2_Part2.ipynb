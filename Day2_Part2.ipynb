{
 "cells": [
  {
   "cell_type": "markdown",
   "metadata": {},
   "source": [
    "# Code of Advent 2019\n",
    "## Puzzle 1 day 2"
   ]
  },
  {
   "cell_type": "markdown",
   "metadata": {},
   "source": [
    "Moises Barbera Ramos - https://github.com/MoisesBarbera - https://www.linkedin.com/in/moises-barbera-ramos-8a3848164/"
   ]
  },
  {
   "cell_type": "markdown",
   "metadata": {},
   "source": [
    "https://adventofcode.com/2019/day/2#part2\n",
    "\n",
    "--- Part Two ---"
   ]
  },
  {
   "cell_type": "code",
   "execution_count": 1,
   "metadata": {},
   "outputs": [],
   "source": [
    "data = [1,0,0,3,1,1,2,3,1,3,4,3,1,5,0,3,2,1,6,19,1,19,5,23,2,13,23,27,1,10,27,31,2,6,31,35,1,9,35,39,2,10,39,43,1,43,9,47,1,47,9,51,2,10,51,55,1,55,9,59,1,59,5,63,1,63,6,67,2,6,67,71,2,10,71,75,1,75,5,79,1,9,79,83,2,83,10,87,1,87,6,91,1,13,91,95,2,10,95,99,1,99,6,103,2,13,103,107,1,107,2,111,1,111,9,0,99,2,14,0,0]\n",
    "goal = 19690720"
   ]
  },
  {
   "cell_type": "code",
   "execution_count": 2,
   "metadata": {},
   "outputs": [],
   "source": [
    "def puzzle_2(data, goal):\n",
    "    for j in range(100):\n",
    "        for k in range(100):\n",
    "            memory = data[:]\n",
    "            memory[1] = j\n",
    "            memory[2] = k\n",
    "        \n",
    "            i = 0\n",
    "            while True:\n",
    "                if memory[i] == 1:\n",
    "                    memory[memory[i+3]] = memory[memory[i+1]] + memory[memory[i+2]]    # if index 0 = 1, add index 1 and 2 and substitute it in index 3\n",
    "        \n",
    "                elif memory[i] == 2:\n",
    "                    memory[memory[i+3]] = memory[memory[i+1]] * memory[memory[i+2]]    # if index 0 = 2, multiply index 1 and 2 and substitute it in index 3\n",
    "        \n",
    "                elif memory[i] == 99:                                        # if index 0 = 99, stop program and return modified data set\n",
    "                    solution = memory[0]\n",
    "                    break\n",
    "                i += 4\n",
    "                    \n",
    "            if solution == goal:\n",
    "                verb = j\n",
    "                print('Verb value = ', verb)\n",
    "                noun = k\n",
    "                print('Noun value = ', noun)\n",
    "                print('New code = ', (100*verb) + noun)   \n",
    "                return"
   ]
  },
  {
   "cell_type": "code",
   "execution_count": 3,
   "metadata": {},
   "outputs": [
    {
     "name": "stdout",
     "output_type": "stream",
     "text": [
      "Verb value =  95\n",
      "Noun value =  7\n",
      "New code =  9507\n"
     ]
    }
   ],
   "source": [
    "puzzle_2(data, goal)"
   ]
  },
  {
   "cell_type": "code",
   "execution_count": null,
   "metadata": {},
   "outputs": [],
   "source": []
  }
 ],
 "metadata": {
  "kernelspec": {
   "display_name": "Python 3",
   "language": "python",
   "name": "python3"
  },
  "language_info": {
   "codemirror_mode": {
    "name": "ipython",
    "version": 3
   },
   "file_extension": ".py",
   "mimetype": "text/x-python",
   "name": "python",
   "nbconvert_exporter": "python",
   "pygments_lexer": "ipython3",
   "version": "3.5.2"
  }
 },
 "nbformat": 4,
 "nbformat_minor": 2
}
