{
 "cells": [
  {
   "cell_type": "markdown",
   "metadata": {},
   "source": [
    "# Code of Advent 2019\n",
    "## Puzzle 2 day 3\n",
    "\n",
    "Moises Barbera Ramos - https://github.com/MoisesBarbera - https://www.linkedin.com/in/moises-barbera-ramos-8a3848164/"
   ]
  },
  {
   "cell_type": "markdown",
   "metadata": {},
   "source": [
    "https://adventofcode.com/2019/day/3#part2\n",
    "\n",
    "--- Part Two ---\n",
    "It turns out that this circuit is very timing-sensitive; you actually need to minimize the signal delay.\n",
    "\n",
    "To do this, calculate the number of steps each wire takes to reach each intersection; choose the intersection where the sum of both wires' steps is lowest. If a wire visits a position on the grid multiple times, use the steps value from the first time it visits that position when calculating the total value of a specific intersection.\n",
    "\n",
    "The number of steps a wire takes is the total number of grid squares the wire has entered to get to that location, including the intersection being considered. Again consider the example from above:\n",
    "\n",
    "...........\n",
    "\n",
    ".+-----+...\n",
    "\n",
    ".|.....|...\n",
    "\n",
    ".|..+--X-+.\n",
    "\n",
    ".|..|..|.|.\n",
    "\n",
    ".|.-X--+.|.\n",
    "\n",
    ".|..|....|.\n",
    "\n",
    ".|.......|.\n",
    "\n",
    ".o-------+.\n",
    "\n",
    "...........\n",
    "\n",
    "In the above example, the intersection closest to the central port is reached after 8+5+5+2 = 20 steps by the first wire and 7+6+4+3 = 20 steps by the second wire for a total of 20+20 = 40 steps.\n",
    "\n",
    "However, the top-right intersection is better: the first wire takes only 8+5+2 = 15 and the second wire takes only 7+6+2 = 15, a total of 15+15 = 30 steps.\n",
    "\n",
    "Here are the best steps for the extra examples from above:\n",
    "\n",
    "R75,D30,R83,U83,L12,D49,R71,U7,L72\n",
    "U62,R66,U55,R34,D71,R55,D58,R83 = 610 steps\n",
    "R98,U47,R26,D63,R33,U87,L62,D20,R33,U53,R51\n",
    "U98,R91,D20,R16,D67,R40,U7,R15,U6,R7 = 410 steps\n",
    "What is the fewest combined steps the wires must take to reach an intersection?"
   ]
  },
  {
   "cell_type": "code",
   "execution_count": 1,
   "metadata": {},
   "outputs": [],
   "source": [
    "A,B,_ = open('day_3.txt').read().split('\\n')\n",
    "A, B = [i.split(',') for i in [A, B]]"
   ]
  },
  {
   "cell_type": "code",
   "execution_count": 2,
   "metadata": {},
   "outputs": [],
   "source": [
    "def find_points(data):\n",
    "    x = 0\n",
    "    y = 0\n",
    "    steps = 0\n",
    "    \n",
    "    ans = {}\n",
    "    \n",
    "    for v in data:\n",
    "        s = v[0]\n",
    "        r = int(v[1:])\n",
    "        \n",
    "        d_x = 0\n",
    "        d_y = 0\n",
    "        \n",
    "        if s == 'L':\n",
    "            d_x = -1\n",
    "        if s == 'R':\n",
    "            d_x = 1\n",
    "        if s == 'U':\n",
    "            d_y = 1\n",
    "        if s == 'D':\n",
    "            d_y = -1\n",
    "        \n",
    "        assert s in ['L', 'R', 'U', 'D'] # debugging\n",
    "        \n",
    "        for _ in range(r):\n",
    "            x += d_x\n",
    "            y += d_y            \n",
    "            steps += 1\n",
    "            \n",
    "            if (x, y) not in ans:\n",
    "                ans[(x,y)] = steps            \n",
    "    return ans           "
   ]
  },
  {
   "cell_type": "code",
   "execution_count": 3,
   "metadata": {},
   "outputs": [
    {
     "data": {
      "text/plain": [
       "15612"
      ]
     },
     "execution_count": 3,
     "metadata": {},
     "output_type": "execute_result"
    }
   ],
   "source": [
    "points_A = find_points(A)\n",
    "points_B = find_points(B)\n",
    "intersects = set(points_A.keys()) & set(points_B.keys())  # Bitwise and operator, Each bit of the output is 1 if the corresponding bit of x AND of y is 1, otherwise it's 0\n",
    "          \n",
    "def few_steps():\n",
    "    return min((points_A[i] + points_B[i] for i in intersects))\n",
    "\n",
    "few_steps()"
   ]
  },
  {
   "cell_type": "code",
   "execution_count": 4,
   "metadata": {},
   "outputs": [
    {
     "data": {
      "text/plain": [
       "260"
      ]
     },
     "execution_count": 4,
     "metadata": {},
     "output_type": "execute_result"
    }
   ],
   "source": [
    "# This modified code will also return a solution for puzzle 1\n",
    "\n",
    "def min_distance():\n",
    "    return min(abs(x) + abs(y) for (x, y) in intersects)\n",
    "\n",
    "min_distance()          "
   ]
  },
  {
   "cell_type": "code",
   "execution_count": null,
   "metadata": {},
   "outputs": [],
   "source": []
  }
 ],
 "metadata": {
  "kernelspec": {
   "display_name": "Python 3",
   "language": "python",
   "name": "python3"
  },
  "language_info": {
   "codemirror_mode": {
    "name": "ipython",
    "version": 3
   },
   "file_extension": ".py",
   "mimetype": "text/x-python",
   "name": "python",
   "nbconvert_exporter": "python",
   "pygments_lexer": "ipython3",
   "version": "3.5.2"
  }
 },
 "nbformat": 4,
 "nbformat_minor": 2
}
