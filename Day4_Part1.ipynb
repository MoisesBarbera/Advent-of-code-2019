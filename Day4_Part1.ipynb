{
 "cells": [
  {
   "cell_type": "markdown",
   "metadata": {},
   "source": [
    "# Code of Advent 2019\n",
    "## Puzzle 1 day 4\n",
    "\n",
    "Moises Barbera Ramos - https://github.com/MoisesBarbera - https://www.linkedin.com/in/moises-barbera-ramos-8a3848164/"
   ]
  },
  {
   "cell_type": "markdown",
   "metadata": {},
   "source": [
    "https://adventofcode.com/2019/day/4\n",
    "\n",
    "\n",
    "--- Day 4: Secure Container ---\n",
    "You arrive at the Venus fuel depot only to discover it's protected by a password. The Elves had written the password on a sticky note, but someone threw it out.\n",
    "\n",
    "However, they do remember a few key facts about the password:\n",
    "\n",
    "It is a six-digit number.\n",
    "The value is within the range given in your puzzle input.\n",
    "Two adjacent digits are the same (like 22 in 122345).\n",
    "Going from left to right, the digits never decrease; they only ever increase or stay the same (like 111123 or 135679).\n",
    "Other than the range rule, the following are true:\n",
    "\n",
    "111111 meets these criteria (double 11, never decreases).\n",
    "223450 does not meet these criteria (decreasing pair of digits 50).\n",
    "123789 does not meet these criteria (no double).\n",
    "How many different passwords within the range given in your puzzle input meet these criteria?\n",
    "\n",
    "Your puzzle input is 136760-595730."
   ]
  },
  {
   "cell_type": "code",
   "execution_count": 85,
   "metadata": {},
   "outputs": [
    {
     "data": {
      "text/plain": [
       "458971"
      ]
     },
     "execution_count": 85,
     "metadata": {},
     "output_type": "execute_result"
    }
   ],
   "source": [
    "data_range = range(136760,595730+1)\n",
    "len(data_range)"
   ]
  },
  {
   "cell_type": "code",
   "execution_count": 89,
   "metadata": {},
   "outputs": [],
   "source": [
    "def satisfied_combinations(data_range):\n",
    "    ans = 0\n",
    "    for nums in data_range:\n",
    "        num = [int(x) for x in str(nums)]\n",
    "\n",
    "        has_pair = any([num[i] == num[i+1] for i in range(len(num)-1)])\n",
    "        has_dec = any([num[i] > num[i+1] for i in range(len(num) - 1)])\n",
    "\n",
    "        if has_pair and not has_dec:\n",
    "            ans += 1\n",
    "    return ans"
   ]
  },
  {
   "cell_type": "code",
   "execution_count": 90,
   "metadata": {},
   "outputs": [
    {
     "data": {
      "text/plain": [
       "1873"
      ]
     },
     "execution_count": 90,
     "metadata": {},
     "output_type": "execute_result"
    }
   ],
   "source": [
    "satisfied_combinations(data_range)"
   ]
  },
  {
   "cell_type": "code",
   "execution_count": null,
   "metadata": {},
   "outputs": [],
   "source": []
  }
 ],
 "metadata": {
  "kernelspec": {
   "display_name": "Python 3",
   "language": "python",
   "name": "python3"
  },
  "language_info": {
   "codemirror_mode": {
    "name": "ipython",
    "version": 3
   },
   "file_extension": ".py",
   "mimetype": "text/x-python",
   "name": "python",
   "nbconvert_exporter": "python",
   "pygments_lexer": "ipython3",
   "version": "3.5.2"
  }
 },
 "nbformat": 4,
 "nbformat_minor": 2
}
